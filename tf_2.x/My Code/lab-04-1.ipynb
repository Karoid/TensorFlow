{
 "cells": [
  {
   "cell_type": "code",
   "execution_count": 1,
   "metadata": {},
   "outputs": [
    {
     "name": "stdout",
     "output_type": "stream",
     "text": [
      "    0 |  12.000000 |     0.6620 |     0.6140 |   0.948000\n",
      "   50 |   0.496134 |     1.2597 |     0.1876 |   1.029817\n",
      "  100 |   0.362601 |     1.4340 |     0.0192 |   1.033659\n",
      "  150 |   0.346944 |     1.4943 |    -0.0368 |   1.020128\n",
      "  200 |   0.344557 |     1.5163 |    -0.0557 |   1.004191\n",
      "  250 |   0.343885 |     1.5253 |    -0.0622 |   0.990039\n",
      "  300 |   0.343564 |     1.5295 |    -0.0646 |   0.978473\n",
      "  350 |   0.343380 |     1.5319 |    -0.0655 |   0.969309\n",
      "  400 |   0.343271 |     1.5335 |    -0.0660 |   0.962140\n",
      "  450 |   0.343205 |     1.5346 |    -0.0662 |   0.956559\n",
      "  500 |   0.343165 |     1.5355 |    -0.0664 |   0.952224\n",
      "  550 |   0.343142 |     1.5361 |    -0.0665 |   0.948861\n",
      "  600 |   0.343127 |     1.5366 |    -0.0666 |   0.946252\n",
      "  650 |   0.343118 |     1.5370 |    -0.0667 |   0.944229\n",
      "  700 |   0.343113 |     1.5373 |    -0.0667 |   0.942660\n",
      "  750 |   0.343110 |     1.5375 |    -0.0667 |   0.941443\n",
      "  800 |   0.343108 |     1.5377 |    -0.0668 |   0.940500\n",
      "  850 |   0.343107 |     1.5378 |    -0.0668 |   0.939768\n",
      "  900 |   0.343107 |     1.5379 |    -0.0668 |   0.939201\n",
      "  950 |   0.343106 |     1.5380 |    -0.0668 |   0.938761\n",
      " 1000 |   0.343106 |     1.5381 |    -0.0668 |   0.938420\n"
     ]
    }
   ],
   "source": [
    "import tensorflow as tf\n",
    "import numpy as np\n",
    "\n",
    "X1 = np.array([1.0, 3.0, 4.0, 7.0,  9.0])\n",
    "X2 = np.array([1.5, 3.5, 3.5, 4.5,  11.0])\n",
    "Y = np.array([2.0, 5.0, 8.0, 11.0, 14.0])\n",
    "\n",
    "W1 = tf.Variable([1.0])\n",
    "W2 = tf.Variable([1.0])\n",
    "b = tf.Variable([1.0])\n",
    "\n",
    "learning_rate = 0.01\n",
    "\n",
    "for step in range(1001):\n",
    "    with tf.GradientTape() as tape:\n",
    "        hypothesis = X1 * W1 + X2 * W2 + b\n",
    "        cost = tf.reduce_mean(tf.square(hypothesis - Y))\n",
    "    \n",
    "    W1_grad, W2_grad, b_grad = tape.gradient(cost, [W1, W2, b])\n",
    "    \n",
    "    W1.assign_sub(learning_rate * W1_grad)\n",
    "    W2.assign_sub(learning_rate * W2_grad)\n",
    "    b.assign_sub(learning_rate * b_grad)\n",
    "    \n",
    "    if step % 50 == 0:\n",
    "        print(\"{:5} | {:10.6f} | {:10.4f} | {:10.4f} | {:10.6f}\".format(\n",
    "          step, cost.numpy(), W1.numpy()[0], W2.numpy()[0], b.numpy()[0]))"
   ]
  },
  {
   "cell_type": "markdown",
   "metadata": {},
   "source": [
    "3차원 좌표평면에 hypothesis 평면과 점을 표현할 수 있을까?"
   ]
  },
  {
   "cell_type": "code",
   "execution_count": 2,
   "metadata": {},
   "outputs": [],
   "source": [
    "import matplotlib.pyplot as plt\n",
    "from mpl_toolkits.mplot3d import Axes3D\n",
    "\n"
   ]
  }
 ],
 "metadata": {
  "kernelspec": {
   "display_name": "Python 3",
   "language": "python",
   "name": "python3"
  },
  "language_info": {
   "codemirror_mode": {
    "name": "ipython",
    "version": 3
   },
   "file_extension": ".py",
   "mimetype": "text/x-python",
   "name": "python",
   "nbconvert_exporter": "python",
   "pygments_lexer": "ipython3",
   "version": "3.6.8"
  }
 },
 "nbformat": 4,
 "nbformat_minor": 2
}
