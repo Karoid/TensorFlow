{
 "cells": [
  {
   "cell_type": "markdown",
   "metadata": {},
   "source": [
    "Linear Regression 연습!"
   ]
  },
  {
   "cell_type": "code",
   "execution_count": 1,
   "metadata": {},
   "outputs": [
    {
     "name": "stdout",
     "output_type": "stream",
     "text": [
      " Step |    Cost    |     W    \n",
      "_______________________________\n",
      "    9 |     0.5987 |   1.600762\n",
      "   19 |     0.5846 |   1.615037\n",
      "   29 |     0.5846 |   1.615376\n",
      "   39 |     0.5846 |   1.615384\n",
      "   49 |     0.5846 |   1.615384\n",
      "   59 |     0.5846 |   1.615384\n",
      "   69 |     0.5846 |   1.615384\n",
      "   79 |     0.5846 |   1.615384\n",
      "   89 |     0.5846 |   1.615384\n",
      "   99 |     0.5846 |   1.615384\n",
      "  109 |     0.5846 |   1.615384\n",
      "  119 |     0.5846 |   1.615384\n",
      "  129 |     0.5846 |   1.615384\n",
      "  139 |     0.5846 |   1.615384\n",
      "  149 |     0.5846 |   1.615384\n",
      "  159 |     0.5846 |   1.615384\n",
      "  169 |     0.5846 |   1.615384\n",
      "  179 |     0.5846 |   1.615384\n",
      "  189 |     0.5846 |   1.615384\n",
      "  199 |     0.5846 |   1.615384\n",
      "  209 |     0.5846 |   1.615384\n",
      "  219 |     0.5846 |   1.615384\n",
      "  229 |     0.5846 |   1.615384\n",
      "  239 |     0.5846 |   1.615384\n",
      "  249 |     0.5846 |   1.615384\n",
      "  259 |     0.5846 |   1.615384\n",
      "  269 |     0.5846 |   1.615384\n",
      "  279 |     0.5846 |   1.615384\n",
      "  289 |     0.5846 |   1.615384\n",
      "  299 |     0.5846 |   1.615384\n"
     ]
    }
   ],
   "source": [
    "import tensorflow as tf\n",
    "import numpy as np\n",
    "\n",
    "\n",
    "X = np.array([1.0, 3.0, 4.0, 7.0,  9.0])\n",
    "Y = np.array([2.0, 5.0, 8.0, 11.0, 14.0])\n",
    "\n",
    "W = tf.Variable([1.0])\n",
    "\n",
    "learning_rate = 0.01\n",
    "\n",
    "print(' Step |    Cost    |     W    ')\n",
    "print('_______________________________')\n",
    "for step in range(300):\n",
    "    hypothesis = W * X\n",
    "    cost = tf.reduce_mean(tf.square(hypothesis - Y))\n",
    "    \n",
    "    # gradient = cost 미분\n",
    "    gradient = tf.reduce_mean(tf.multiply(tf.multiply(W,X) - Y,X))\n",
    "    decent = W - tf.multiply(learning_rate ,gradient)\n",
    "    W.assign(decent)\n",
    "    \n",
    "\n",
    "    if step % 10 == 9:\n",
    "        print('{:5} | {:10.4f} | {:10.6f}'.format(step,cost.numpy(), W.numpy()[0]))"
   ]
  },
  {
   "cell_type": "markdown",
   "metadata": {},
   "source": [
    "앞선 결과를 그래프로 얼마나 가깝게 추정했는지 다음의 그래프로 확인할 수 있다."
   ]
  },
  {
   "cell_type": "code",
   "execution_count": 3,
   "metadata": {},
   "outputs": [
    {
     "data": {
      "image/png": "[encoded data removed]",
      "text/plain": [
       "<Figure size 432x288 with 1 Axes>"
      ]
     },
     "metadata": {
      "needs_background": "light"
     },
     "output_type": "display_data"
    }
   ],
   "source": [
    "import matplotlib.pyplot as plt\n",
    "x_data = np.linspace(1, 9, num=15)\n",
    "plt.plot(X, Y, \"o\")\n",
    "plt.plot(x_data, W*x_data, \"b--\")\n",
    "plt.ylabel('Y')\n",
    "plt.xlabel('X')\n",
    "plt.show()"
   ]
  },
  {
   "cell_type": "code",
   "execution_count": null,
   "metadata": {},
   "outputs": [],
   "source": []
  }
 ],
 "metadata": {
  "kernelspec": {
   "display_name": "Python 3",
   "language": "python",
   "name": "python3"
  },
  "language_info": {
   "codemirror_mode": {
    "name": "ipython",
    "version": 3
   },
   "file_extension": ".py",
   "mimetype": "text/x-python",
   "name": "python",
   "nbconvert_exporter": "python",
   "pygments_lexer": "ipython3",
   "version": "3.6.8"
  }
 },
 "nbformat": 4,
 "nbformat_minor": 2
}
